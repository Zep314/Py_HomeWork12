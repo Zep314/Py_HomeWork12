{
 "cells": [
  {
   "cell_type": "markdown",
   "id": "b346a115",
   "metadata": {},
   "source": [
    "# Задача"
   ]
  },
  {
   "cell_type": "markdown",
   "id": "e5bd1a3c",
   "metadata": {},
   "source": [
    "Риэлтору поручено выставить объекты недвижимости площадью 48м$^2$ и 54м$^2$ на продажу.\n",
    "\n",
    "Риэлтор пришёл к аналитику за советом «какой ценник поставить?» Аналитик занялся изучением вопроса и выяснил, \n",
    "что в этом районе объект 31м$^2$ стоит \\\\$19310 объект 51м$^2$ стоит \\\\$52150 объект 61м$^2$ стоит \\\\$74570 \n",
    "\n",
    "Вопрос: что сказать риэлтору? "
   ]
  },
  {
   "cell_type": "markdown",
   "id": "086cb987",
   "metadata": {},
   "source": [
    "## Решение:"
   ]
  },
  {
   "cell_type": "code",
   "execution_count": 1,
   "id": "e6ac3c41",
   "metadata": {},
   "outputs": [
    {
     "data": {
      "text/html": [
       "<div>\n",
       "<style scoped>\n",
       "    .dataframe tbody tr th:only-of-type {\n",
       "        vertical-align: middle;\n",
       "    }\n",
       "\n",
       "    .dataframe tbody tr th {\n",
       "        vertical-align: top;\n",
       "    }\n",
       "\n",
       "    .dataframe thead th {\n",
       "        text-align: right;\n",
       "    }\n",
       "</style>\n",
       "<table border=\"1\" class=\"dataframe\">\n",
       "  <thead>\n",
       "    <tr style=\"text-align: right;\">\n",
       "      <th></th>\n",
       "      <th>areas</th>\n",
       "      <th>costs</th>\n",
       "    </tr>\n",
       "  </thead>\n",
       "  <tbody>\n",
       "    <tr>\n",
       "      <th>0</th>\n",
       "      <td>31</td>\n",
       "      <td>19310.0</td>\n",
       "    </tr>\n",
       "    <tr>\n",
       "      <th>1</th>\n",
       "      <td>48</td>\n",
       "      <td>NaN</td>\n",
       "    </tr>\n",
       "    <tr>\n",
       "      <th>2</th>\n",
       "      <td>51</td>\n",
       "      <td>52150.0</td>\n",
       "    </tr>\n",
       "    <tr>\n",
       "      <th>3</th>\n",
       "      <td>54</td>\n",
       "      <td>NaN</td>\n",
       "    </tr>\n",
       "    <tr>\n",
       "      <th>4</th>\n",
       "      <td>61</td>\n",
       "      <td>64570.0</td>\n",
       "    </tr>\n",
       "  </tbody>\n",
       "</table>\n",
       "</div>"
      ],
      "text/plain": [
       "   areas    costs\n",
       "0     31  19310.0\n",
       "1     48      NaN\n",
       "2     51  52150.0\n",
       "3     54      NaN\n",
       "4     61  64570.0"
      ]
     },
     "execution_count": 1,
     "metadata": {},
     "output_type": "execute_result"
    }
   ],
   "source": [
    "import pandas as pd\n",
    "import matplotlib.pyplot as plt\n",
    "import numpy as np\n",
    "#import seaborn as sns\n",
    "\n",
    "# Строим датасет из известных нам данных. Там, где данных нет (стоимость 2-х домов) - там ставим значение np.nan\n",
    "data = pd.DataFrame({'areas':[31, 48, 51, 54, 61], \n",
    "                     'costs' : [19310, np.nan, 52150, np.nan, 64570]})\n",
    "data1 = data.dropna() # выкидываем неполные строки - датасет с только известными значениями\n",
    "\n",
    "data"
   ]
  },
  {
   "cell_type": "code",
   "execution_count": 2,
   "id": "6c3422fa",
   "metadata": {},
   "outputs": [
    {
     "data": {
      "text/html": [
       "<div>\n",
       "<style scoped>\n",
       "    .dataframe tbody tr th:only-of-type {\n",
       "        vertical-align: middle;\n",
       "    }\n",
       "\n",
       "    .dataframe tbody tr th {\n",
       "        vertical-align: top;\n",
       "    }\n",
       "\n",
       "    .dataframe thead th {\n",
       "        text-align: right;\n",
       "    }\n",
       "</style>\n",
       "<table border=\"1\" class=\"dataframe\">\n",
       "  <thead>\n",
       "    <tr style=\"text-align: right;\">\n",
       "      <th></th>\n",
       "      <th>areas</th>\n",
       "      <th>costs</th>\n",
       "      <th>new_costs</th>\n",
       "    </tr>\n",
       "  </thead>\n",
       "  <tbody>\n",
       "    <tr>\n",
       "      <th>0</th>\n",
       "      <td>31</td>\n",
       "      <td>19310.0</td>\n",
       "      <td>19310.0</td>\n",
       "    </tr>\n",
       "    <tr>\n",
       "      <th>1</th>\n",
       "      <td>48</td>\n",
       "      <td>NaN</td>\n",
       "      <td>38282.5</td>\n",
       "    </tr>\n",
       "    <tr>\n",
       "      <th>2</th>\n",
       "      <td>51</td>\n",
       "      <td>52150.0</td>\n",
       "      <td>52150.0</td>\n",
       "    </tr>\n",
       "    <tr>\n",
       "      <th>3</th>\n",
       "      <td>54</td>\n",
       "      <td>NaN</td>\n",
       "      <td>60912.5</td>\n",
       "    </tr>\n",
       "    <tr>\n",
       "      <th>4</th>\n",
       "      <td>61</td>\n",
       "      <td>64570.0</td>\n",
       "      <td>64570.0</td>\n",
       "    </tr>\n",
       "  </tbody>\n",
       "</table>\n",
       "</div>"
      ],
      "text/plain": [
       "   areas    costs  new_costs\n",
       "0     31  19310.0    19310.0\n",
       "1     48      NaN    38282.5\n",
       "2     51  52150.0    52150.0\n",
       "3     54      NaN    60912.5\n",
       "4     61  64570.0    64570.0"
      ]
     },
     "execution_count": 2,
     "metadata": {},
     "output_type": "execute_result"
    }
   ],
   "source": [
    "# Полиномиальная интерполяция,\n",
    "# Интерполяция производится с помощью полинома 3-его порядка\n",
    "# Вычисления закидываем в дополнительный столбец\n",
    "data['new_costs'] = data['costs'].interpolate(method='polynomial', order=2)\n",
    "data"
   ]
  },
  {
   "cell_type": "code",
   "execution_count": 3,
   "id": "07a9bb09",
   "metadata": {},
   "outputs": [
    {
     "data": {
      "image/png": "[encoded data removed]",
      "text/plain": [
       "<Figure size 720x432 with 1 Axes>"
      ]
     },
     "metadata": {
      "needs_background": "light"
     },
     "output_type": "display_data"
    }
   ],
   "source": [
    "# Красиво все рисуем\n",
    "\n",
    "linear_model=np.polyfit(data['areas'],data['new_costs'],3)\n",
    "linear_model_fn=np.poly1d(linear_model)\n",
    "x_s=np.arange(data['areas'][0],data['areas'][len(data['areas'])-1]+1)\n",
    "\n",
    "fig = plt.figure(figsize=(10,6))\n",
    "ax = fig.add_subplot(1,1,1)\n",
    "ax.plot(data1['areas'],data1['costs']\n",
    "         , color = 'red'\n",
    "         , label = 'Изначальные данные'\n",
    "       )\n",
    "ax.plot(data['areas'],data['new_costs']\n",
    "         , color = 'blue'\n",
    "         , marker = 'o'\n",
    "         , markerfacecolor = 'black'\n",
    "         , label = 'Интерполированные данные'\n",
    "       )\n",
    "ax.plot(x_s,linear_model_fn(x_s)\n",
    "        , color = 'orange'\n",
    "        , label = 'Аппроксимированная функция'\n",
    "       )\n",
    "plt.legend(loc = 'upper left')\n",
    "plt.grid(linewidth = 1, linestyle = '--')\n",
    "plt.title('Стоимость объектов недвижимости в зависимости от их площади')\n",
    "plt.xlabel('$Площадь\\ помещения\\ (м^2)$')\n",
    "plt.ylabel('Цена (\\\\$)', labelpad=15);\n",
    "plt.show()"
   ]
  },
  {
   "cell_type": "markdown",
   "id": "831b3861",
   "metadata": {},
   "source": [
    "## Ответ:"
   ]
  },
  {
   "cell_type": "markdown",
   "id": "401c9878",
   "metadata": {},
   "source": [
    "С помощью интерполяции по имеющимся данным мы смогли заполнить недостающие данные. Использовалась интерполяция 3-го порядка (в результате получилась функция вида $f(x)=ax^3+bx^2+cx+d$). С помощью этой функции мы смогли предсказать недостающие значения."
   ]
  },
  {
   "cell_type": "code",
   "execution_count": 4,
   "id": "182ea755",
   "metadata": {},
   "outputs": [
    {
     "data": {
      "text/html": [
       "<div>\n",
       "<style scoped>\n",
       "    .dataframe tbody tr th:only-of-type {\n",
       "        vertical-align: middle;\n",
       "    }\n",
       "\n",
       "    .dataframe tbody tr th {\n",
       "        vertical-align: top;\n",
       "    }\n",
       "\n",
       "    .dataframe thead th {\n",
       "        text-align: right;\n",
       "    }\n",
       "</style>\n",
       "<table border=\"1\" class=\"dataframe\">\n",
       "  <thead>\n",
       "    <tr style=\"text-align: right;\">\n",
       "      <th></th>\n",
       "      <th>areas</th>\n",
       "      <th>new_costs</th>\n",
       "    </tr>\n",
       "  </thead>\n",
       "  <tbody>\n",
       "    <tr>\n",
       "      <th>1</th>\n",
       "      <td>48</td>\n",
       "      <td>38282.5</td>\n",
       "    </tr>\n",
       "    <tr>\n",
       "      <th>3</th>\n",
       "      <td>54</td>\n",
       "      <td>60912.5</td>\n",
       "    </tr>\n",
       "  </tbody>\n",
       "</table>\n",
       "</div>"
      ],
      "text/plain": [
       "   areas  new_costs\n",
       "1     48    38282.5\n",
       "3     54    60912.5"
      ]
     },
     "execution_count": 4,
     "metadata": {},
     "output_type": "execute_result"
    }
   ],
   "source": [
    "result = data[data.isnull().any(1)] # фильтруем только строки, где было пусто (то, что надо сосчитать)\n",
    "result.drop(['costs'], axis=1) # Удаляем столбец со старыми ценами (в этих строках NaN)"
   ]
  }
 ],
 "metadata": {
  "kernelspec": {
   "display_name": "Python 3 (ipykernel)",
   "language": "python",
   "name": "python3"
  },
  "language_info": {
   "codemirror_mode": {
    "name": "ipython",
    "version": 3
   },
   "file_extension": ".py",
   "mimetype": "text/x-python",
   "name": "python",
   "nbconvert_exporter": "python",
   "pygments_lexer": "ipython3",
   "version": "3.9.12"
  }
 },
 "nbformat": 4,
 "nbformat_minor": 5
}
